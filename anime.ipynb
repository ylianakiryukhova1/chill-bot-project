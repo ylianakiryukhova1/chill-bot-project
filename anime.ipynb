{
  "nbformat": 4,
  "nbformat_minor": 0,
  "metadata": {
    "colab": {
      "name": "Untitled8.ipynb",
      "provenance": []
    },
    "kernelspec": {
      "name": "python3",
      "display_name": "Python 3"
    },
    "language_info": {
      "name": "python"
    }
  },
  "cells": [
    {
      "cell_type": "code",
      "metadata": {
        "colab": {
          "base_uri": "https://localhost:8080/"
        },
        "id": "ZC8HDMwEZuoF",
        "outputId": "a920db38-756b-4511-879d-f66163b6b0d2"
      },
      "source": [
        "pip install beautifulsoup4"
      ],
      "execution_count": 1,
      "outputs": [
        {
          "output_type": "stream",
          "text": [
            "Requirement already satisfied: beautifulsoup4 in /usr/local/lib/python3.7/dist-packages (4.6.3)\n"
          ],
          "name": "stdout"
        }
      ]
    },
    {
      "cell_type": "code",
      "metadata": {
        "colab": {
          "base_uri": "https://localhost:8080/"
        },
        "id": "9cDZh7LeaLYk",
        "outputId": "ed87e7e0-d220-4f52-a9c0-13dacffbfebc"
      },
      "source": [
        "pip install requests"
      ],
      "execution_count": 2,
      "outputs": [
        {
          "output_type": "stream",
          "text": [
            "Requirement already satisfied: requests in /usr/local/lib/python3.7/dist-packages (2.23.0)\n",
            "Requirement already satisfied: idna<3,>=2.5 in /usr/local/lib/python3.7/dist-packages (from requests) (2.10)\n",
            "Requirement already satisfied: urllib3!=1.25.0,!=1.25.1,<1.26,>=1.21.1 in /usr/local/lib/python3.7/dist-packages (from requests) (1.24.3)\n",
            "Requirement already satisfied: chardet<4,>=3.0.2 in /usr/local/lib/python3.7/dist-packages (from requests) (3.0.4)\n",
            "Requirement already satisfied: certifi>=2017.4.17 in /usr/local/lib/python3.7/dist-packages (from requests) (2020.12.5)\n"
          ],
          "name": "stdout"
        }
      ]
    },
    {
      "cell_type": "code",
      "metadata": {
        "id": "q3m0lyeQaNz_"
      },
      "source": [
        "from bs4 import BeautifulSoup\n",
        "import requests"
      ],
      "execution_count": 27,
      "outputs": []
    },
    {
      "cell_type": "code",
      "metadata": {
        "colab": {
          "base_uri": "https://localhost:8080/"
        },
        "id": "vOdAWBvgaV-P",
        "outputId": "aa481908-fe95-4722-c42e-8613c3b339de"
      },
      "source": [
        "from bs4 import BeautifulSoup\n",
        "import requests\n",
        "\n",
        "url = 'https://www.kinopoisk.ru/lists/top250/anime/?tab=all'\n",
        "response = requests.get(url)\n",
        "print(response.status_code)\n",
        "soup = BeautifulSoup(response.text, 'lxml')\n",
        "films = soup.find_all('p', class_='selection-film-item-meta__name')\n",
        "\n",
        "for film in films:\n",
        "    print(film.text)"
      ],
      "execution_count": 28,
      "outputs": [
        {
          "output_type": "stream",
          "text": [
            "200\n"
          ],
          "name": "stdout"
        }
      ]
    },
    {
      "cell_type": "code",
      "metadata": {
        "colab": {
          "base_uri": "https://localhost:8080/"
        },
        "id": "vLTEWtXRaZZ2",
        "outputId": "8fd0e0a8-0d2a-4f3c-81d8-5808e575ab69"
      },
      "source": [
        "url_series = 'https://www.kinopoisk.ru/lists/series-top250/action/?tab=all'\n",
        "response_series = requests.get(url_series)\n",
        "print(response_series.status_code)\n",
        "soup_series = BeautifulSoup(response_series.text, 'lxml')\n",
        "series = soup_series.find_all('div', class_='desktop-rating-selection-film-item__upper-wrapper')\n",
        "\n",
        "for ser in series:\n",
        "    print(ser.text)"
      ],
      "execution_count": 29,
      "outputs": [
        {
          "output_type": "stream",
          "text": [
            "200\n"
          ],
          "name": "stdout"
        }
      ]
    },
    {
      "cell_type": "code",
      "metadata": {
        "id": "p4LfyAMdek6G"
      },
      "source": [
        ""
      ],
      "execution_count": null,
      "outputs": []
    }
  ]
}