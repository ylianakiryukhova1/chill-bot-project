{
  "nbformat": 4,
  "nbformat_minor": 0,
  "metadata": {
    "colab": {
      "name": "Untitled8.ipynb",
      "provenance": []
    },
    "kernelspec": {
      "name": "python3",
      "display_name": "Python 3"
    },
    "language_info": {
      "name": "python"
    }
  },
  "cells": [
    {
      "cell_type": "code",
      "metadata": {
        "colab": {
          "base_uri": "https://localhost:8080/"
        },
        "id": "ZC8HDMwEZuoF",
        "outputId": "df956767-4b5c-4612-8868-6ebc1134cccd"
      },
      "source": [
        "pip install beautifulsoup4"
      ],
      "execution_count": 1,
      "outputs": [
        {
          "output_type": "stream",
          "text": [
            "Requirement already satisfied: beautifulsoup4 in /usr/local/lib/python3.7/dist-packages (4.6.3)\n"
          ],
          "name": "stdout"
        }
      ]
    },
    {
      "cell_type": "code",
      "metadata": {
        "colab": {
          "base_uri": "https://localhost:8080/"
        },
        "id": "9cDZh7LeaLYk",
        "outputId": "bda455cc-39c7-479c-b3e8-24678d50cb1a"
      },
      "source": [
        "pip install requests"
      ],
      "execution_count": 2,
      "outputs": [
        {
          "output_type": "stream",
          "text": [
            "Requirement already satisfied: requests in /usr/local/lib/python3.7/dist-packages (2.23.0)\n",
            "Requirement already satisfied: certifi>=2017.4.17 in /usr/local/lib/python3.7/dist-packages (from requests) (2020.12.5)\n",
            "Requirement already satisfied: chardet<4,>=3.0.2 in /usr/local/lib/python3.7/dist-packages (from requests) (3.0.4)\n",
            "Requirement already satisfied: idna<3,>=2.5 in /usr/local/lib/python3.7/dist-packages (from requests) (2.10)\n",
            "Requirement already satisfied: urllib3!=1.25.0,!=1.25.1,<1.26,>=1.21.1 in /usr/local/lib/python3.7/dist-packages (from requests) (1.24.3)\n"
          ],
          "name": "stdout"
        }
      ]
    },
    {
      "cell_type": "code",
      "metadata": {
        "id": "q3m0lyeQaNz_"
      },
      "source": [
        "from bs4 import BeautifulSoup\n",
        "import requests"
      ],
      "execution_count": 3,
      "outputs": []
    },
    {
      "cell_type": "code",
      "metadata": {
        "colab": {
          "base_uri": "https://localhost:8080/"
        },
        "id": "vOdAWBvgaV-P",
        "outputId": "4d161593-ea16-45a5-a8b6-fbecb1d10720"
      },
      "source": [
        "from bs4 import BeautifulSoup\n",
        "import requests\n",
        "\n",
        "url_anime = 'https://www.kinopoisk.ru/lists/top250/anime/?tab=all'\n",
        "response_anime = requests.get(url_anime)\n",
        "print(response_anime.status_code)\n",
        "soup_anime = BeautifulSoup(response_anime.text, 'lxml')\n",
        "anime = soup.find_all('p', class_='selection-film-item-meta__name')\n",
        "\n",
        "for i in anime:\n",
        "    print(i.text)"
      ],
      "execution_count": 10,
      "outputs": [
        {
          "output_type": "stream",
          "text": [
            "200\n",
            "Унесённые призраками\n",
            "Твоё имя\n",
            "Ходячий замок\n",
            "Принцесса Мононоке\n",
            "Мой сосед Тоторо\n",
            "Форма голоса\n",
            "Небесный замок Лапута\n",
            "Ведьмина служба доставки\n",
            "Навсикая из долины ветров\n",
            "Могила светлячков\n"
          ],
          "name": "stdout"
        }
      ]
    },
    {
      "cell_type": "code",
      "metadata": {
        "colab": {
          "base_uri": "https://localhost:8080/"
        },
        "id": "vLTEWtXRaZZ2",
        "outputId": "a36bceb4-4a0e-47fa-faf6-e795816a0ba8"
      },
      "source": [
        "url_action = 'https://www.kinopoisk.ru/lists/series-top250/action/?tab=all'\n",
        "response_action = requests.get(url_action)\n",
        "print(response_action.status_code)\n",
        "soup_action = BeautifulSoup(response_action.text, 'lxml')\n",
        "action = soup_action.find_all('p', class_='selection-film-item-meta__name')\n",
        "\n",
        "for i in action:\n",
        "    print(i.text)"
      ],
      "execution_count": 15,
      "outputs": [
        {
          "output_type": "stream",
          "text": [
            "200\n",
            "Спартак: Кровь и песок\n",
            "Пацаны\n",
            "Наши матери, наши отцы\n",
            "Первобытный\n",
            "Спартак: Боги арены\n",
            "Мандалорец\n",
            "Побег\n",
            "Уэйн\n",
            "Бумажный дом\n",
            "Банши\n",
            "Диверсант\n",
            "Уловка-22\n",
            "Воин\n",
            "Желтый глаз тигра\n",
            "Почти человек\n"
          ],
          "name": "stdout"
        }
      ]
    },
    {
      "cell_type": "code",
      "metadata": {
        "id": "p4LfyAMdek6G",
        "colab": {
          "base_uri": "https://localhost:8080/"
        },
        "outputId": "c0790b20-1a31-4ad4-b927-721c086bc6b7"
      },
      "source": [
        "url_western = 'https://www.kinopoisk.ru/lists/series-top250/western/?tab=all'\n",
        "response_western = requests.get(url_western)\n",
        "print(response_western.status_code)\n",
        "soup_western = BeautifulSoup(response_western.text, 'lxml')\n",
        "western = soup_western.find_all('p', class_='selection-film-item-meta__name')\n",
        "\n",
        "for i in western:\n",
        "    print(i.text)"
      ],
      "execution_count": 22,
      "outputs": [
        {
          "output_type": "stream",
          "text": [
            "200\n",
            "Йеллоустоун\n"
          ],
          "name": "stdout"
        }
      ]
    },
    {
      "cell_type": "code",
      "metadata": {
        "id": "daRIKbuC7M8P"
      },
      "source": [
        "url_western = 'https://www.kinopoisk.ru/lists/series-top250/war/?tab=all'\n",
        "response_western = requests.get(url_western)\n",
        "print(response_western.status_code)\n",
        "soup_western = BeautifulSoup(response_western.text, 'lxml')\n",
        "western = soup_western.find_all('p', class_='selection-film-item-meta__name')\n",
        "\n",
        "for i in western:\n",
        "    print(i.text)"
      ],
      "execution_count": null,
      "outputs": []
    }
  ]
}