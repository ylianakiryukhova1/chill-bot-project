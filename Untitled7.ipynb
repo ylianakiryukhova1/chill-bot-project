{
  "nbformat": 4,
  "nbformat_minor": 0,
  "metadata": {
    "colab": {
      "name": "Untitled7.ipynb",
      "provenance": []
    },
    "kernelspec": {
      "name": "python3",
      "display_name": "Python 3"
    },
    "language_info": {
      "name": "python"
    }
  },
  "cells": [
    {
      "cell_type": "code",
      "metadata": {
        "colab": {
          "base_uri": "https://localhost:8080/"
        },
        "id": "ztjQJHebm0cC",
        "outputId": "3a55c09b-5eaf-447e-bcd0-39d48db39350"
      },
      "source": [
        "pip install pytelegrambotapi"
      ],
      "execution_count": 1,
      "outputs": [
        {
          "output_type": "stream",
          "text": [
            "Collecting pytelegrambotapi\n",
            "\u001b[?25l  Downloading https://files.pythonhosted.org/packages/21/d4/440ef91bc6154cd72705b7a048a7e2d91ff6af3a379ed39fed9b6f1b214f/pyTelegramBotAPI-3.7.9.tar.gz (90kB)\n",
            "\r\u001b[K     |███▋                            | 10kB 19.5MB/s eta 0:00:01\r\u001b[K     |███████▏                        | 20kB 26.0MB/s eta 0:00:01\r\u001b[K     |██████████▉                     | 30kB 30.8MB/s eta 0:00:01\r\u001b[K     |██████████████▍                 | 40kB 20.3MB/s eta 0:00:01\r\u001b[K     |██████████████████              | 51kB 14.4MB/s eta 0:00:01\r\u001b[K     |█████████████████████▋          | 61kB 12.5MB/s eta 0:00:01\r\u001b[K     |█████████████████████████▏      | 71kB 13.9MB/s eta 0:00:01\r\u001b[K     |████████████████████████████▉   | 81kB 15.3MB/s eta 0:00:01\r\u001b[K     |████████████████████████████████| 92kB 5.9MB/s \n",
            "\u001b[?25hRequirement already satisfied: requests in /usr/local/lib/python3.7/dist-packages (from pytelegrambotapi) (2.23.0)\n",
            "Requirement already satisfied: idna<3,>=2.5 in /usr/local/lib/python3.7/dist-packages (from requests->pytelegrambotapi) (2.10)\n",
            "Requirement already satisfied: certifi>=2017.4.17 in /usr/local/lib/python3.7/dist-packages (from requests->pytelegrambotapi) (2020.12.5)\n",
            "Requirement already satisfied: chardet<4,>=3.0.2 in /usr/local/lib/python3.7/dist-packages (from requests->pytelegrambotapi) (3.0.4)\n",
            "Requirement already satisfied: urllib3!=1.25.0,!=1.25.1,<1.26,>=1.21.1 in /usr/local/lib/python3.7/dist-packages (from requests->pytelegrambotapi) (1.24.3)\n",
            "Building wheels for collected packages: pytelegrambotapi\n",
            "  Building wheel for pytelegrambotapi (setup.py) ... \u001b[?25l\u001b[?25hdone\n",
            "  Created wheel for pytelegrambotapi: filename=pyTelegramBotAPI-3.7.9-cp37-none-any.whl size=67898 sha256=d939b62db3f17c0d21f1fc2e230316039200218d5d7041a114f28963dcec1947\n",
            "  Stored in directory: /root/.cache/pip/wheels/68/bb/cb/1af3be2487e0e183f3848e9d555acdf4df4628637fab5b9939\n",
            "Successfully built pytelegrambotapi\n",
            "Installing collected packages: pytelegrambotapi\n",
            "Successfully installed pytelegrambotapi-3.7.9\n"
          ],
          "name": "stdout"
        }
      ]
    },
    {
      "cell_type": "code",
      "metadata": {
        "id": "v41hSEWwm1R7"
      },
      "source": [
        "import telebot\n",
        "bot = telebot.TeleBot('1702617101:AAEf1MIl5iOTJ2O0CgbuC_ZWkXJrSrkcyGI')"
      ],
      "execution_count": 2,
      "outputs": []
    },
    {
      "cell_type": "code",
      "metadata": {
        "id": "hoS7Dqkkm-d4"
      },
      "source": [
        "name = ''\n",
        "@bot.message_handler(content_types=['text'])\n",
        "def get_text_messages(message):\n",
        "  if message.text == \"Привет\":\n",
        "    bot.send_message(message.from_user.id, \"Привет, ты не знаешь чем занять этот вечер? Давай я тебе помогу\")\n",
        "  elif message.text == \"/help\":\n",
        "    bot.send_message(message.from_user.id, \"Напиши 'Привет'\")\n",
        "  else:\n",
        "    bot.send_message(message.from_user.id, \"Я тебя не понимаю. Напиши /help.\") \n",
        "def start(message):\n",
        "    if message.text == 'Давай':\n",
        "        bot.send_message(message.from_user.id, \"Как тебя зовут?\")\n",
        "        bot.register_next_step_handler(message, get_name)\n",
        "    else:\n",
        "        bot.send_message(message.from_user.id, 'Напиши Давай')\n",
        "\n",
        "def get_name(message):\n",
        "    global name;\n",
        "    name = message.text;\n",
        "    bot.send_message(message.from_user.id, 'Приветствую вас,'+name+'. Меня зовут досужный бот. Выберите, что вы хотите сегодня сделать?')"
      ],
      "execution_count": 8,
      "outputs": []
    },
    {
      "cell_type": "code",
      "metadata": {
        "id": "c5o5syfonFVF"
      },
      "source": [
        "bot.polling(none_stop=True, interval=0)"
      ],
      "execution_count": 10,
      "outputs": []
    }
  ]
}