{
  "nbformat": 4,
  "nbformat_minor": 0,
  "metadata": {
    "colab": {
      "name": "Копия блокнота \"Практика BeautifulSoup.ipynb\"",
      "provenance": [],
      "collapsed_sections": []
    },
    "kernelspec": {
      "name": "python3",
      "display_name": "Python 3"
    },
    "language_info": {
      "name": "python"
    }
  },
  "cells": [
    {
      "cell_type": "markdown",
      "metadata": {
        "id": "tdOcE_Y7lBKn"
      },
      "source": [
        "# Фильмы\n",
        "\n",
        "1.   Новый пункт\n",
        "2.   Новый пункт\n",
        "\n"
      ]
    },
    {
      "cell_type": "markdown",
      "metadata": {
        "id": "bZYp2LH72NHE"
      },
      "source": [
        "Загружаем страницу и проверяем, что всё прошло хорошо"
      ]
    },
    {
      "cell_type": "code",
      "metadata": {
        "colab": {
          "base_uri": "https://localhost:8080/"
        },
        "id": "qoX5QnLgFTY7",
        "outputId": "952f1838-0c0b-4365-9d35-31ca446fd161"
      },
      "source": [
        "pip install beautifulsoup4\n"
      ],
      "execution_count": 30,
      "outputs": [
        {
          "output_type": "stream",
          "text": [
            "Requirement already satisfied: beautifulsoup4 in /usr/local/lib/python3.7/dist-packages (4.6.3)\n"
          ],
          "name": "stdout"
        }
      ]
    },
    {
      "cell_type": "code",
      "metadata": {
        "colab": {
          "base_uri": "https://localhost:8080/"
        },
        "id": "Lf9rirXlFgJb",
        "outputId": "c5ff295e-a2d9-4541-c105-8ac64fad04c6"
      },
      "source": [
        "pip install requests"
      ],
      "execution_count": 31,
      "outputs": [
        {
          "output_type": "stream",
          "text": [
            "Requirement already satisfied: requests in /usr/local/lib/python3.7/dist-packages (2.23.0)\n",
            "Requirement already satisfied: urllib3!=1.25.0,!=1.25.1,<1.26,>=1.21.1 in /usr/local/lib/python3.7/dist-packages (from requests) (1.24.3)\n",
            "Requirement already satisfied: idna<3,>=2.5 in /usr/local/lib/python3.7/dist-packages (from requests) (2.10)\n",
            "Requirement already satisfied: chardet<4,>=3.0.2 in /usr/local/lib/python3.7/dist-packages (from requests) (3.0.4)\n",
            "Requirement already satisfied: certifi>=2017.4.17 in /usr/local/lib/python3.7/dist-packages (from requests) (2020.12.5)\n"
          ],
          "name": "stdout"
        }
      ]
    },
    {
      "cell_type": "code",
      "metadata": {
        "id": "QOCc2jc8FahF"
      },
      "source": [
        "from bs4 import BeautifulSoup\n",
        "import requests"
      ],
      "execution_count": 32,
      "outputs": []
    },
    {
      "cell_type": "code",
      "metadata": {
        "id": "w1hG6ebClDTq",
        "colab": {
          "base_uri": "https://localhost:8080/"
        },
        "outputId": "9a1ab501-629e-4f7c-e903-915408ec20fc"
      },
      "source": [
        "url = 'https://www.kinopoisk.ru/lists/top250/anime/?tab=all'\n",
        "response = requests.get(url)\n",
        "print(response.status_code)"
      ],
      "execution_count": 33,
      "outputs": [
        {
          "output_type": "stream",
          "text": [
            "200\n"
          ],
          "name": "stdout"
        }
      ]
    },
    {
      "cell_type": "markdown",
      "metadata": {
        "id": "Cmk_g-562PVX"
      },
      "source": [
        "Готовим суп"
      ]
    },
    {
      "cell_type": "code",
      "metadata": {
        "id": "jvJlLjfN1uJP"
      },
      "source": [
        "soup = BeautifulSoup(response.text, 'lxml')"
      ],
      "execution_count": 34,
      "outputs": []
    },
    {
      "cell_type": "markdown",
      "metadata": {
        "id": "Tzpl4YUd2Yqt"
      },
      "source": [
        "Выгружаем цитаты"
      ]
    },
    {
      "cell_type": "code",
      "metadata": {
        "id": "Tid21keol_IV"
      },
      "source": [
        "films = soup.find_all('p', class_='selection-film-item-meta__name')"
      ],
      "execution_count": 35,
      "outputs": []
    },
    {
      "cell_type": "code",
      "metadata": {
        "id": "LR4EgivRn8YN",
        "colab": {
          "base_uri": "https://localhost:8080/"
        },
        "outputId": "b0eab918-818e-41fb-b74d-4e73f556064e"
      },
      "source": [
        "for film in films:\n",
        "    print(film.text)"
      ],
      "execution_count": 36,
      "outputs": [
        {
          "output_type": "stream",
          "text": [
            "Унесённые призраками\n",
            "Твоё имя\n",
            "Ходячий замок\n",
            "Принцесса Мононоке\n",
            "Мой сосед Тоторо\n",
            "Форма голоса\n",
            "Небесный замок Лапута\n",
            "Ведьмина служба доставки\n",
            "Могила светлячков\n",
            "Навсикая из долины ветров\n"
          ],
          "name": "stdout"
        }
      ]
    },
    {
      "cell_type": "markdown",
      "metadata": {
        "id": "MuMvNgYq2dXg"
      },
      "source": [
        "Добавляем ко всему прочему авторов"
      ]
    },
    {
      "cell_type": "code",
      "metadata": {
        "id": "SSdatMHlo2m-"
      },
      "source": [
        "authors = soup.find_all('small', class_='author')\n",
        "\n",
        "for i in range(0, len(quotes)):\n",
        "    print(quotes[i].text)\n",
        "    print('--' + authors[i].text)\n",
        "    print('\\n')"
      ],
      "execution_count": null,
      "outputs": []
    },
    {
      "cell_type": "markdown",
      "metadata": {
        "id": "bJXmLFON2i8K"
      },
      "source": [
        "И вишенкой на торте будут теги"
      ]
    },
    {
      "cell_type": "code",
      "metadata": {
        "id": "saZ5I_G3pkgd"
      },
      "source": [
        "tags = soup.find_all('div', class_='tags')\n",
        "\n",
        "for i in range(0, len(quotes)):\n",
        "    print(quotes[i].text)\n",
        "    print('--' + authors[i].text)\n",
        "    tagsforquote = tags[i].find_all('a', class_='tag')\n",
        "    for tagforquote in tagsforquote:\n",
        "        print(tagforquote.text)\n",
        "    print('\\n')"
      ],
      "execution_count": null,
      "outputs": []
    },
    {
      "cell_type": "code",
      "metadata": {
        "id": "8JroGgsxD9pr"
      },
      "source": [
        "tags"
      ],
      "execution_count": null,
      "outputs": []
    }
  ]
}